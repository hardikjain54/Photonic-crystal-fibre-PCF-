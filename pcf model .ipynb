{
 "cells": [
  {
   "cell_type": "code",
   "execution_count": 1,
   "id": "04facd7f",
   "metadata": {},
   "outputs": [],
   "source": [
    "import pandas as pd\n",
    "import numpy as np\n",
    "import matplotlib.pyplot as plt\n"
   ]
  },
  {
   "cell_type": "code",
   "execution_count": 2,
   "id": "efd069df",
   "metadata": {},
   "outputs": [],
   "source": [
    "dataset = pd.read_excel(r\"C:\\Users\\Hardik jain\\Downloads\\pcf_modeSoln_data_1.xlsx\",sheet_name = 'SiO2-air-rings-5-dBYp-0.7')"
   ]
  },
  {
   "cell_type": "code",
   "execution_count": 3,
   "id": "36835152",
   "metadata": {},
   "outputs": [
    {
     "data": {
      "text/html": [
       "<div>\n",
       "<style scoped>\n",
       "    .dataframe tbody tr th:only-of-type {\n",
       "        vertical-align: middle;\n",
       "    }\n",
       "\n",
       "    .dataframe tbody tr th {\n",
       "        vertical-align: top;\n",
       "    }\n",
       "\n",
       "    .dataframe thead th {\n",
       "        text-align: right;\n",
       "    }\n",
       "</style>\n",
       "<table border=\"1\" class=\"dataframe\">\n",
       "  <thead>\n",
       "    <tr style=\"text-align: right;\">\n",
       "      <th></th>\n",
       "      <th>core-ref-index-at-wl-1.55um</th>\n",
       "      <th>clad-ref-index</th>\n",
       "      <th>no-of-\\nrings</th>\n",
       "      <th>diaBYpitch</th>\n",
       "      <th>pitch\\n(um)</th>\n",
       "      <th>wl\\n(um)</th>\n",
       "      <th>neff</th>\n",
       "      <th>Aeff\\n(um^2)</th>\n",
       "      <th>dispersion\\n(ps/km.nm)</th>\n",
       "      <th>conf-loss\\n(dB/cm)</th>\n",
       "      <th>conf-loss-in-log10\\n(dB/cm)</th>\n",
       "    </tr>\n",
       "  </thead>\n",
       "  <tbody>\n",
       "    <tr>\n",
       "      <th>0</th>\n",
       "      <td>1.444</td>\n",
       "      <td>1</td>\n",
       "      <td>5</td>\n",
       "      <td>0.7</td>\n",
       "      <td>0.8</td>\n",
       "      <td>1.80000</td>\n",
       "      <td>1.27882</td>\n",
       "      <td>4.42229</td>\n",
       "      <td>-667.351</td>\n",
       "      <td>61.270000</td>\n",
       "      <td>1.787248</td>\n",
       "    </tr>\n",
       "    <tr>\n",
       "      <th>1</th>\n",
       "      <td>1.444</td>\n",
       "      <td>1</td>\n",
       "      <td>5</td>\n",
       "      <td>0.7</td>\n",
       "      <td>0.8</td>\n",
       "      <td>1.58333</td>\n",
       "      <td>1.29642</td>\n",
       "      <td>2.41020</td>\n",
       "      <td>-728.993</td>\n",
       "      <td>8.273760</td>\n",
       "      <td>0.917703</td>\n",
       "    </tr>\n",
       "    <tr>\n",
       "      <th>2</th>\n",
       "      <td>1.444</td>\n",
       "      <td>1</td>\n",
       "      <td>5</td>\n",
       "      <td>0.7</td>\n",
       "      <td>0.8</td>\n",
       "      <td>1.41322</td>\n",
       "      <td>1.31464</td>\n",
       "      <td>1.67653</td>\n",
       "      <td>-586.632</td>\n",
       "      <td>0.766277</td>\n",
       "      <td>-0.115614</td>\n",
       "    </tr>\n",
       "    <tr>\n",
       "      <th>3</th>\n",
       "      <td>1.444</td>\n",
       "      <td>1</td>\n",
       "      <td>5</td>\n",
       "      <td>0.7</td>\n",
       "      <td>0.8</td>\n",
       "      <td>1.27612</td>\n",
       "      <td>1.33194</td>\n",
       "      <td>1.33156</td>\n",
       "      <td>-397.929</td>\n",
       "      <td>0.061124</td>\n",
       "      <td>-1.213790</td>\n",
       "    </tr>\n",
       "    <tr>\n",
       "      <th>4</th>\n",
       "      <td>1.444</td>\n",
       "      <td>1</td>\n",
       "      <td>5</td>\n",
       "      <td>0.7</td>\n",
       "      <td>0.8</td>\n",
       "      <td>1.16327</td>\n",
       "      <td>1.34753</td>\n",
       "      <td>1.13874</td>\n",
       "      <td>-230.017</td>\n",
       "      <td>0.004892</td>\n",
       "      <td>-2.310525</td>\n",
       "    </tr>\n",
       "  </tbody>\n",
       "</table>\n",
       "</div>"
      ],
      "text/plain": [
       "   core-ref-index-at-wl-1.55um  clad-ref-index  no-of-\\nrings  diaBYpitch  \\\n",
       "0                        1.444               1              5         0.7   \n",
       "1                        1.444               1              5         0.7   \n",
       "2                        1.444               1              5         0.7   \n",
       "3                        1.444               1              5         0.7   \n",
       "4                        1.444               1              5         0.7   \n",
       "\n",
       "   pitch\\n(um)  wl\\n(um)     neff  Aeff\\n(um^2)  dispersion\\n(ps/km.nm)  \\\n",
       "0          0.8   1.80000  1.27882       4.42229                -667.351   \n",
       "1          0.8   1.58333  1.29642       2.41020                -728.993   \n",
       "2          0.8   1.41322  1.31464       1.67653                -586.632   \n",
       "3          0.8   1.27612  1.33194       1.33156                -397.929   \n",
       "4          0.8   1.16327  1.34753       1.13874                -230.017   \n",
       "\n",
       "   conf-loss\\n(dB/cm)  conf-loss-in-log10\\n(dB/cm)  \n",
       "0           61.270000                     1.787248  \n",
       "1            8.273760                     0.917703  \n",
       "2            0.766277                    -0.115614  \n",
       "3            0.061124                    -1.213790  \n",
       "4            0.004892                    -2.310525  "
      ]
     },
     "execution_count": 3,
     "metadata": {},
     "output_type": "execute_result"
    }
   ],
   "source": [
    "dataset.head()"
   ]
  },
  {
   "cell_type": "code",
   "execution_count": 4,
   "id": "8064683d",
   "metadata": {},
   "outputs": [
    {
     "name": "stdout",
     "output_type": "stream",
     "text": [
      "SiO2-air-rings-4-dBYp-0.8\n",
      "SiO2-air-rings-4-dBYp-0.9\n",
      "SiO2-air-rings-4-dBYp-0.7\n",
      "SiO2-air-rings-5-dBYp-0.6\n",
      "SiO2-air-rings-5-dBYp-0.8\n",
      "SiO2-air-rings-5-dBYp-0.9\n",
      "SiO2-air-rings-4-dBYp-0.6\n"
     ]
    }
   ],
   "source": [
    "sheets_names = ['SiO2-air-rings-4-dBYp-0.8', 'SiO2-air-rings-4-dBYp-0.9',\n",
    "                'SiO2-air-rings-4-dBYp-0.7', 'SiO2-air-rings-5-dBYp-0.6',\n",
    "                'SiO2-air-rings-5-dBYp-0.8', 'SiO2-air-rings-5-dBYp-0.9',\n",
    "                'SiO2-air-rings-4-dBYp-0.6']\n",
    "for sheet_name in sheets_names:\n",
    "    print(sheet_name)\n",
    "    df_sheet_name = pd.read_excel(r\"C:\\Users\\Hardik jain\\OneDrive\\Desktop\\pcf_modeSoln_data_1.xlsx\", sheet_name=sheet_name)\n",
    "    datafile_sheet_name = df_sheet_name.values \n",
    "    datafile_1 = np.concatenate((dataset, datafile_sheet_name), axis=0)\n"
   ]
  },
  {
   "cell_type": "code",
   "execution_count": 5,
   "id": "e00f8cf9",
   "metadata": {},
   "outputs": [
    {
     "name": "stdout",
     "output_type": "stream",
     "text": [
      "[[ 1.44400000e+00  1.00000000e+00  5.00000000e+00 ... -6.67351000e+02\n",
      "   6.12700000e+01  1.78724788e+00]\n",
      " [ 1.44400000e+00  1.00000000e+00  5.00000000e+00 ... -7.28993000e+02\n",
      "   8.27376000e+00  9.17702919e-01]\n",
      " [ 1.44400000e+00  1.00000000e+00  5.00000000e+00 ... -5.86632000e+02\n",
      "   7.66277000e-01 -1.15614210e-01]\n",
      " ...\n",
      " [ 1.44400000e+00  1.00000000e+00  4.00000000e+00 ...  5.64126000e+01\n",
      "   3.07385000e-12 -1.15123173e+01]\n",
      " [ 1.44400000e+00  1.00000000e+00  4.00000000e+00 ...  5.48488000e+01\n",
      "   2.18833000e-12 -1.16598872e+01]\n",
      " [ 1.44400000e+00  1.00000000e+00  4.00000000e+00 ...  5.33584000e+01\n",
      "   1.59437000e-12 -1.17974109e+01]]\n",
      "\n",
      "279\n"
     ]
    }
   ],
   "source": [
    "print(datafile_1)\n",
    "print()\n",
    "print(len(datafile_1))\n"
   ]
  },
  {
   "cell_type": "code",
   "execution_count": 6,
   "id": "ab50dd2a",
   "metadata": {},
   "outputs": [
    {
     "data": {
      "text/plain": [
       "(279, 11)"
      ]
     },
     "execution_count": 6,
     "metadata": {},
     "output_type": "execute_result"
    }
   ],
   "source": [
    "datafile_1.shape\n"
   ]
  },
  {
   "cell_type": "code",
   "execution_count": 7,
   "id": "51ef9e93",
   "metadata": {},
   "outputs": [
    {
     "name": "stdout",
     "output_type": "stream",
     "text": [
      "<class 'numpy.ndarray'>\n"
     ]
    }
   ],
   "source": [
    "print(type(datafile_1))"
   ]
  },
  {
   "cell_type": "code",
   "execution_count": 8,
   "id": "9e834a96",
   "metadata": {},
   "outputs": [
    {
     "data": {
      "text/html": [
       "<div>\n",
       "<style scoped>\n",
       "    .dataframe tbody tr th:only-of-type {\n",
       "        vertical-align: middle;\n",
       "    }\n",
       "\n",
       "    .dataframe tbody tr th {\n",
       "        vertical-align: top;\n",
       "    }\n",
       "\n",
       "    .dataframe thead th {\n",
       "        text-align: right;\n",
       "    }\n",
       "</style>\n",
       "<table border=\"1\" class=\"dataframe\">\n",
       "  <thead>\n",
       "    <tr style=\"text-align: right;\">\n",
       "      <th></th>\n",
       "      <th>core-ref-index-at-wl-1.55um</th>\n",
       "      <th>clad-ref-index</th>\n",
       "      <th>no-of-\\nrings</th>\n",
       "      <th>diaBYpitch</th>\n",
       "      <th>pitch\\n(um)</th>\n",
       "      <th>wl\\n(um)</th>\n",
       "      <th>neff</th>\n",
       "      <th>Aeff\\n(um^2)</th>\n",
       "      <th>dispersion\\n(ps/km.nm)</th>\n",
       "      <th>conf-loss\\n(dB/cm)</th>\n",
       "      <th>conf-loss-in-log10\\n(dB/cm)</th>\n",
       "    </tr>\n",
       "  </thead>\n",
       "  <tbody>\n",
       "    <tr>\n",
       "      <th>0</th>\n",
       "      <td>1.444</td>\n",
       "      <td>1.0</td>\n",
       "      <td>5.0</td>\n",
       "      <td>0.7</td>\n",
       "      <td>0.8</td>\n",
       "      <td>1.800000</td>\n",
       "      <td>1.27882</td>\n",
       "      <td>4.42229</td>\n",
       "      <td>-667.3510</td>\n",
       "      <td>6.127000e+01</td>\n",
       "      <td>1.787248</td>\n",
       "    </tr>\n",
       "    <tr>\n",
       "      <th>1</th>\n",
       "      <td>1.444</td>\n",
       "      <td>1.0</td>\n",
       "      <td>5.0</td>\n",
       "      <td>0.7</td>\n",
       "      <td>0.8</td>\n",
       "      <td>1.583330</td>\n",
       "      <td>1.29642</td>\n",
       "      <td>2.41020</td>\n",
       "      <td>-728.9930</td>\n",
       "      <td>8.273760e+00</td>\n",
       "      <td>0.917703</td>\n",
       "    </tr>\n",
       "    <tr>\n",
       "      <th>2</th>\n",
       "      <td>1.444</td>\n",
       "      <td>1.0</td>\n",
       "      <td>5.0</td>\n",
       "      <td>0.7</td>\n",
       "      <td>0.8</td>\n",
       "      <td>1.413220</td>\n",
       "      <td>1.31464</td>\n",
       "      <td>1.67653</td>\n",
       "      <td>-586.6320</td>\n",
       "      <td>7.662770e-01</td>\n",
       "      <td>-0.115614</td>\n",
       "    </tr>\n",
       "    <tr>\n",
       "      <th>3</th>\n",
       "      <td>1.444</td>\n",
       "      <td>1.0</td>\n",
       "      <td>5.0</td>\n",
       "      <td>0.7</td>\n",
       "      <td>0.8</td>\n",
       "      <td>1.276120</td>\n",
       "      <td>1.33194</td>\n",
       "      <td>1.33156</td>\n",
       "      <td>-397.9290</td>\n",
       "      <td>6.112370e-02</td>\n",
       "      <td>-1.213790</td>\n",
       "    </tr>\n",
       "    <tr>\n",
       "      <th>4</th>\n",
       "      <td>1.444</td>\n",
       "      <td>1.0</td>\n",
       "      <td>5.0</td>\n",
       "      <td>0.7</td>\n",
       "      <td>0.8</td>\n",
       "      <td>1.163270</td>\n",
       "      <td>1.34753</td>\n",
       "      <td>1.13874</td>\n",
       "      <td>-230.0170</td>\n",
       "      <td>4.891870e-03</td>\n",
       "      <td>-2.310525</td>\n",
       "    </tr>\n",
       "    <tr>\n",
       "      <th>...</th>\n",
       "      <td>...</td>\n",
       "      <td>...</td>\n",
       "      <td>...</td>\n",
       "      <td>...</td>\n",
       "      <td>...</td>\n",
       "      <td>...</td>\n",
       "      <td>...</td>\n",
       "      <td>...</td>\n",
       "      <td>...</td>\n",
       "      <td>...</td>\n",
       "      <td>...</td>\n",
       "    </tr>\n",
       "    <tr>\n",
       "      <th>274</th>\n",
       "      <td>1.444</td>\n",
       "      <td>1.0</td>\n",
       "      <td>4.0</td>\n",
       "      <td>0.6</td>\n",
       "      <td>2.0</td>\n",
       "      <td>0.589655</td>\n",
       "      <td>1.46354</td>\n",
       "      <td>4.06947</td>\n",
       "      <td>59.7799</td>\n",
       "      <td>6.578650e-12</td>\n",
       "      <td>-11.181863</td>\n",
       "    </tr>\n",
       "    <tr>\n",
       "      <th>275</th>\n",
       "      <td>1.444</td>\n",
       "      <td>1.0</td>\n",
       "      <td>4.0</td>\n",
       "      <td>0.6</td>\n",
       "      <td>2.0</td>\n",
       "      <td>0.564356</td>\n",
       "      <td>1.46406</td>\n",
       "      <td>4.04679</td>\n",
       "      <td>58.0559</td>\n",
       "      <td>4.431390e-12</td>\n",
       "      <td>-11.353460</td>\n",
       "    </tr>\n",
       "    <tr>\n",
       "      <th>276</th>\n",
       "      <td>1.444</td>\n",
       "      <td>1.0</td>\n",
       "      <td>4.0</td>\n",
       "      <td>0.6</td>\n",
       "      <td>2.0</td>\n",
       "      <td>0.541139</td>\n",
       "      <td>1.46453</td>\n",
       "      <td>4.02620</td>\n",
       "      <td>56.4126</td>\n",
       "      <td>3.073850e-12</td>\n",
       "      <td>-11.512317</td>\n",
       "    </tr>\n",
       "    <tr>\n",
       "      <th>277</th>\n",
       "      <td>1.444</td>\n",
       "      <td>1.0</td>\n",
       "      <td>4.0</td>\n",
       "      <td>0.6</td>\n",
       "      <td>2.0</td>\n",
       "      <td>0.519757</td>\n",
       "      <td>1.46495</td>\n",
       "      <td>4.00741</td>\n",
       "      <td>54.8488</td>\n",
       "      <td>2.188330e-12</td>\n",
       "      <td>-11.659887</td>\n",
       "    </tr>\n",
       "    <tr>\n",
       "      <th>278</th>\n",
       "      <td>1.444</td>\n",
       "      <td>1.0</td>\n",
       "      <td>4.0</td>\n",
       "      <td>0.6</td>\n",
       "      <td>2.0</td>\n",
       "      <td>0.500000</td>\n",
       "      <td>1.46532</td>\n",
       "      <td>3.99021</td>\n",
       "      <td>53.3584</td>\n",
       "      <td>1.594370e-12</td>\n",
       "      <td>-11.797411</td>\n",
       "    </tr>\n",
       "  </tbody>\n",
       "</table>\n",
       "<p>279 rows × 11 columns</p>\n",
       "</div>"
      ],
      "text/plain": [
       "     core-ref-index-at-wl-1.55um  clad-ref-index  no-of-\\nrings  diaBYpitch  \\\n",
       "0                          1.444             1.0            5.0         0.7   \n",
       "1                          1.444             1.0            5.0         0.7   \n",
       "2                          1.444             1.0            5.0         0.7   \n",
       "3                          1.444             1.0            5.0         0.7   \n",
       "4                          1.444             1.0            5.0         0.7   \n",
       "..                           ...             ...            ...         ...   \n",
       "274                        1.444             1.0            4.0         0.6   \n",
       "275                        1.444             1.0            4.0         0.6   \n",
       "276                        1.444             1.0            4.0         0.6   \n",
       "277                        1.444             1.0            4.0         0.6   \n",
       "278                        1.444             1.0            4.0         0.6   \n",
       "\n",
       "     pitch\\n(um)  wl\\n(um)     neff  Aeff\\n(um^2)  dispersion\\n(ps/km.nm)  \\\n",
       "0            0.8  1.800000  1.27882       4.42229               -667.3510   \n",
       "1            0.8  1.583330  1.29642       2.41020               -728.9930   \n",
       "2            0.8  1.413220  1.31464       1.67653               -586.6320   \n",
       "3            0.8  1.276120  1.33194       1.33156               -397.9290   \n",
       "4            0.8  1.163270  1.34753       1.13874               -230.0170   \n",
       "..           ...       ...      ...           ...                     ...   \n",
       "274          2.0  0.589655  1.46354       4.06947                 59.7799   \n",
       "275          2.0  0.564356  1.46406       4.04679                 58.0559   \n",
       "276          2.0  0.541139  1.46453       4.02620                 56.4126   \n",
       "277          2.0  0.519757  1.46495       4.00741                 54.8488   \n",
       "278          2.0  0.500000  1.46532       3.99021                 53.3584   \n",
       "\n",
       "     conf-loss\\n(dB/cm)  conf-loss-in-log10\\n(dB/cm)  \n",
       "0          6.127000e+01                     1.787248  \n",
       "1          8.273760e+00                     0.917703  \n",
       "2          7.662770e-01                    -0.115614  \n",
       "3          6.112370e-02                    -1.213790  \n",
       "4          4.891870e-03                    -2.310525  \n",
       "..                  ...                          ...  \n",
       "274        6.578650e-12                   -11.181863  \n",
       "275        4.431390e-12                   -11.353460  \n",
       "276        3.073850e-12                   -11.512317  \n",
       "277        2.188330e-12                   -11.659887  \n",
       "278        1.594370e-12                   -11.797411  \n",
       "\n",
       "[279 rows x 11 columns]"
      ]
     },
     "execution_count": 8,
     "metadata": {},
     "output_type": "execute_result"
    }
   ],
   "source": [
    "df = pd.DataFrame(datafile_1,columns = ['core-ref-index-at-wl-1.55um','clad-ref-index','no-of-\\nrings','diaBYpitch','pitch\\n(um)','wl\\n(um)','neff','Aeff\\n(um^2)','dispersion\\n(ps/km.nm)','conf-loss\\n(dB/cm)','conf-loss-in-log10\\n(dB/cm)'])\n",
    "df"
   ]
  },
  {
   "cell_type": "code",
   "execution_count": 9,
   "id": "017bd276",
   "metadata": {},
   "outputs": [
    {
     "name": "stdout",
     "output_type": "stream",
     "text": [
      "<class 'pandas.core.frame.DataFrame'>\n"
     ]
    }
   ],
   "source": [
    "print(type(df))"
   ]
  },
  {
   "cell_type": "code",
   "execution_count": 10,
   "id": "cd70bc6e",
   "metadata": {},
   "outputs": [
    {
     "data": {
      "text/plain": [
       "<AxesSubplot:>"
      ]
     },
     "execution_count": 10,
     "metadata": {},
     "output_type": "execute_result"
    },
    {
     "data": {
      "image/png": "[encoded data removed]",
      "text/plain": [
       "<Figure size 640x480 with 2 Axes>"
      ]
     },
     "metadata": {},
     "output_type": "display_data"
    }
   ],
   "source": [
    "import seaborn as sns\n",
    "sns.heatmap(df.isnull(),yticklabels =False,cbar =True,cmap = 'viridis')"
   ]
  },
  {
   "cell_type": "code",
   "execution_count": 11,
   "id": "0423a1ce",
   "metadata": {},
   "outputs": [
    {
     "data": {
      "text/html": [
       "<div>\n",
       "<style scoped>\n",
       "    .dataframe tbody tr th:only-of-type {\n",
       "        vertical-align: middle;\n",
       "    }\n",
       "\n",
       "    .dataframe tbody tr th {\n",
       "        vertical-align: top;\n",
       "    }\n",
       "\n",
       "    .dataframe thead th {\n",
       "        text-align: right;\n",
       "    }\n",
       "</style>\n",
       "<table border=\"1\" class=\"dataframe\">\n",
       "  <thead>\n",
       "    <tr style=\"text-align: right;\">\n",
       "      <th></th>\n",
       "      <th>core-ref-index-at-wl-1.55um</th>\n",
       "      <th>clad-ref-index</th>\n",
       "      <th>no-of-\\nrings</th>\n",
       "      <th>diaBYpitch</th>\n",
       "      <th>pitch\\n(um)</th>\n",
       "      <th>wl\\n(um)</th>\n",
       "      <th>neff</th>\n",
       "      <th>Aeff\\n(um^2)</th>\n",
       "      <th>dispersion\\n(ps/km.nm)</th>\n",
       "      <th>conf-loss\\n(dB/cm)</th>\n",
       "      <th>conf-loss-in-log10\\n(dB/cm)</th>\n",
       "    </tr>\n",
       "  </thead>\n",
       "  <tbody>\n",
       "    <tr>\n",
       "      <th>core-ref-index-at-wl-1.55um</th>\n",
       "      <td>NaN</td>\n",
       "      <td>NaN</td>\n",
       "      <td>NaN</td>\n",
       "      <td>NaN</td>\n",
       "      <td>NaN</td>\n",
       "      <td>NaN</td>\n",
       "      <td>NaN</td>\n",
       "      <td>NaN</td>\n",
       "      <td>NaN</td>\n",
       "      <td>NaN</td>\n",
       "      <td>NaN</td>\n",
       "    </tr>\n",
       "    <tr>\n",
       "      <th>clad-ref-index</th>\n",
       "      <td>NaN</td>\n",
       "      <td>NaN</td>\n",
       "      <td>NaN</td>\n",
       "      <td>NaN</td>\n",
       "      <td>NaN</td>\n",
       "      <td>NaN</td>\n",
       "      <td>NaN</td>\n",
       "      <td>NaN</td>\n",
       "      <td>NaN</td>\n",
       "      <td>NaN</td>\n",
       "      <td>NaN</td>\n",
       "    </tr>\n",
       "    <tr>\n",
       "      <th>no-of-\\nrings</th>\n",
       "      <td>NaN</td>\n",
       "      <td>NaN</td>\n",
       "      <td>1.000000</td>\n",
       "      <td>1.000000</td>\n",
       "      <td>-0.005408</td>\n",
       "      <td>0.008909</td>\n",
       "      <td>-0.118867</td>\n",
       "      <td>-0.202646</td>\n",
       "      <td>0.085411</td>\n",
       "      <td>-0.068648</td>\n",
       "      <td>-0.589973</td>\n",
       "    </tr>\n",
       "    <tr>\n",
       "      <th>diaBYpitch</th>\n",
       "      <td>NaN</td>\n",
       "      <td>NaN</td>\n",
       "      <td>1.000000</td>\n",
       "      <td>1.000000</td>\n",
       "      <td>-0.005408</td>\n",
       "      <td>0.008909</td>\n",
       "      <td>-0.118867</td>\n",
       "      <td>-0.202646</td>\n",
       "      <td>0.085411</td>\n",
       "      <td>-0.068648</td>\n",
       "      <td>-0.589973</td>\n",
       "    </tr>\n",
       "    <tr>\n",
       "      <th>pitch\\n(um)</th>\n",
       "      <td>NaN</td>\n",
       "      <td>NaN</td>\n",
       "      <td>-0.005408</td>\n",
       "      <td>-0.005408</td>\n",
       "      <td>1.000000</td>\n",
       "      <td>0.013393</td>\n",
       "      <td>0.541879</td>\n",
       "      <td>0.837907</td>\n",
       "      <td>0.142262</td>\n",
       "      <td>-0.164449</td>\n",
       "      <td>-0.479366</td>\n",
       "    </tr>\n",
       "    <tr>\n",
       "      <th>wl\\n(um)</th>\n",
       "      <td>NaN</td>\n",
       "      <td>NaN</td>\n",
       "      <td>0.008909</td>\n",
       "      <td>0.008909</td>\n",
       "      <td>0.013393</td>\n",
       "      <td>1.000000</td>\n",
       "      <td>-0.742676</td>\n",
       "      <td>0.423808</td>\n",
       "      <td>-0.554572</td>\n",
       "      <td>0.229242</td>\n",
       "      <td>0.586700</td>\n",
       "    </tr>\n",
       "    <tr>\n",
       "      <th>neff</th>\n",
       "      <td>NaN</td>\n",
       "      <td>NaN</td>\n",
       "      <td>-0.118867</td>\n",
       "      <td>-0.118867</td>\n",
       "      <td>0.541879</td>\n",
       "      <td>-0.742676</td>\n",
       "      <td>1.000000</td>\n",
       "      <td>0.111007</td>\n",
       "      <td>0.742604</td>\n",
       "      <td>-0.358291</td>\n",
       "      <td>-0.690647</td>\n",
       "    </tr>\n",
       "    <tr>\n",
       "      <th>Aeff\\n(um^2)</th>\n",
       "      <td>NaN</td>\n",
       "      <td>NaN</td>\n",
       "      <td>-0.202646</td>\n",
       "      <td>-0.202646</td>\n",
       "      <td>0.837907</td>\n",
       "      <td>0.423808</td>\n",
       "      <td>0.111007</td>\n",
       "      <td>1.000000</td>\n",
       "      <td>-0.264715</td>\n",
       "      <td>0.191195</td>\n",
       "      <td>-0.033662</td>\n",
       "    </tr>\n",
       "    <tr>\n",
       "      <th>dispersion\\n(ps/km.nm)</th>\n",
       "      <td>NaN</td>\n",
       "      <td>NaN</td>\n",
       "      <td>0.085411</td>\n",
       "      <td>0.085411</td>\n",
       "      <td>0.142262</td>\n",
       "      <td>-0.554572</td>\n",
       "      <td>0.742604</td>\n",
       "      <td>-0.264715</td>\n",
       "      <td>1.000000</td>\n",
       "      <td>-0.475143</td>\n",
       "      <td>-0.488458</td>\n",
       "    </tr>\n",
       "    <tr>\n",
       "      <th>conf-loss\\n(dB/cm)</th>\n",
       "      <td>NaN</td>\n",
       "      <td>NaN</td>\n",
       "      <td>-0.068648</td>\n",
       "      <td>-0.068648</td>\n",
       "      <td>-0.164449</td>\n",
       "      <td>0.229242</td>\n",
       "      <td>-0.358291</td>\n",
       "      <td>0.191195</td>\n",
       "      <td>-0.475143</td>\n",
       "      <td>1.000000</td>\n",
       "      <td>0.228478</td>\n",
       "    </tr>\n",
       "    <tr>\n",
       "      <th>conf-loss-in-log10\\n(dB/cm)</th>\n",
       "      <td>NaN</td>\n",
       "      <td>NaN</td>\n",
       "      <td>-0.589973</td>\n",
       "      <td>-0.589973</td>\n",
       "      <td>-0.479366</td>\n",
       "      <td>0.586700</td>\n",
       "      <td>-0.690647</td>\n",
       "      <td>-0.033662</td>\n",
       "      <td>-0.488458</td>\n",
       "      <td>0.228478</td>\n",
       "      <td>1.000000</td>\n",
       "    </tr>\n",
       "  </tbody>\n",
       "</table>\n",
       "</div>"
      ],
      "text/plain": [
       "                             core-ref-index-at-wl-1.55um  clad-ref-index  \\\n",
       "core-ref-index-at-wl-1.55um                          NaN             NaN   \n",
       "clad-ref-index                                       NaN             NaN   \n",
       "no-of-\\nrings                                        NaN             NaN   \n",
       "diaBYpitch                                           NaN             NaN   \n",
       "pitch\\n(um)                                          NaN             NaN   \n",
       "wl\\n(um)                                             NaN             NaN   \n",
       "neff                                                 NaN             NaN   \n",
       "Aeff\\n(um^2)                                         NaN             NaN   \n",
       "dispersion\\n(ps/km.nm)                               NaN             NaN   \n",
       "conf-loss\\n(dB/cm)                                   NaN             NaN   \n",
       "conf-loss-in-log10\\n(dB/cm)                          NaN             NaN   \n",
       "\n",
       "                             no-of-\\nrings  diaBYpitch  pitch\\n(um)  wl\\n(um)  \\\n",
       "core-ref-index-at-wl-1.55um            NaN         NaN          NaN       NaN   \n",
       "clad-ref-index                         NaN         NaN          NaN       NaN   \n",
       "no-of-\\nrings                     1.000000    1.000000    -0.005408  0.008909   \n",
       "diaBYpitch                        1.000000    1.000000    -0.005408  0.008909   \n",
       "pitch\\n(um)                      -0.005408   -0.005408     1.000000  0.013393   \n",
       "wl\\n(um)                          0.008909    0.008909     0.013393  1.000000   \n",
       "neff                             -0.118867   -0.118867     0.541879 -0.742676   \n",
       "Aeff\\n(um^2)                     -0.202646   -0.202646     0.837907  0.423808   \n",
       "dispersion\\n(ps/km.nm)            0.085411    0.085411     0.142262 -0.554572   \n",
       "conf-loss\\n(dB/cm)               -0.068648   -0.068648    -0.164449  0.229242   \n",
       "conf-loss-in-log10\\n(dB/cm)      -0.589973   -0.589973    -0.479366  0.586700   \n",
       "\n",
       "                                 neff  Aeff\\n(um^2)  dispersion\\n(ps/km.nm)  \\\n",
       "core-ref-index-at-wl-1.55um       NaN           NaN                     NaN   \n",
       "clad-ref-index                    NaN           NaN                     NaN   \n",
       "no-of-\\nrings               -0.118867     -0.202646                0.085411   \n",
       "diaBYpitch                  -0.118867     -0.202646                0.085411   \n",
       "pitch\\n(um)                  0.541879      0.837907                0.142262   \n",
       "wl\\n(um)                    -0.742676      0.423808               -0.554572   \n",
       "neff                         1.000000      0.111007                0.742604   \n",
       "Aeff\\n(um^2)                 0.111007      1.000000               -0.264715   \n",
       "dispersion\\n(ps/km.nm)       0.742604     -0.264715                1.000000   \n",
       "conf-loss\\n(dB/cm)          -0.358291      0.191195               -0.475143   \n",
       "conf-loss-in-log10\\n(dB/cm) -0.690647     -0.033662               -0.488458   \n",
       "\n",
       "                             conf-loss\\n(dB/cm)  conf-loss-in-log10\\n(dB/cm)  \n",
       "core-ref-index-at-wl-1.55um                 NaN                          NaN  \n",
       "clad-ref-index                              NaN                          NaN  \n",
       "no-of-\\nrings                         -0.068648                    -0.589973  \n",
       "diaBYpitch                            -0.068648                    -0.589973  \n",
       "pitch\\n(um)                           -0.164449                    -0.479366  \n",
       "wl\\n(um)                               0.229242                     0.586700  \n",
       "neff                                  -0.358291                    -0.690647  \n",
       "Aeff\\n(um^2)                           0.191195                    -0.033662  \n",
       "dispersion\\n(ps/km.nm)                -0.475143                    -0.488458  \n",
       "conf-loss\\n(dB/cm)                     1.000000                     0.228478  \n",
       "conf-loss-in-log10\\n(dB/cm)            0.228478                     1.000000  "
      ]
     },
     "execution_count": 11,
     "metadata": {},
     "output_type": "execute_result"
    }
   ],
   "source": [
    "df.corr()"
   ]
  },
  {
   "cell_type": "code",
   "execution_count": 12,
   "id": "646af36c",
   "metadata": {},
   "outputs": [
    {
     "data": {
      "text/html": [
       "<div>\n",
       "<style scoped>\n",
       "    .dataframe tbody tr th:only-of-type {\n",
       "        vertical-align: middle;\n",
       "    }\n",
       "\n",
       "    .dataframe tbody tr th {\n",
       "        vertical-align: top;\n",
       "    }\n",
       "\n",
       "    .dataframe thead th {\n",
       "        text-align: right;\n",
       "    }\n",
       "</style>\n",
       "<table border=\"1\" class=\"dataframe\">\n",
       "  <thead>\n",
       "    <tr style=\"text-align: right;\">\n",
       "      <th></th>\n",
       "      <th>core-ref-index-at-wl-1.55um</th>\n",
       "      <th>clad-ref-index</th>\n",
       "      <th>no-of-\\nrings</th>\n",
       "      <th>diaBYpitch</th>\n",
       "      <th>pitch\\n(um)</th>\n",
       "      <th>wl\\n(um)</th>\n",
       "      <th>neff</th>\n",
       "      <th>Aeff\\n(um^2)</th>\n",
       "      <th>dispersion\\n(ps/km.nm)</th>\n",
       "      <th>conf-loss\\n(dB/cm)</th>\n",
       "      <th>conf-loss-in-log10\\n(dB/cm)</th>\n",
       "    </tr>\n",
       "  </thead>\n",
       "  <tbody>\n",
       "    <tr>\n",
       "      <th>count</th>\n",
       "      <td>2.790000e+02</td>\n",
       "      <td>279.0</td>\n",
       "      <td>279.000000</td>\n",
       "      <td>279.000000</td>\n",
       "      <td>279.000000</td>\n",
       "      <td>279.000000</td>\n",
       "      <td>279.000000</td>\n",
       "      <td>279.000000</td>\n",
       "      <td>279.000000</td>\n",
       "      <td>2.790000e+02</td>\n",
       "      <td>279.000000</td>\n",
       "    </tr>\n",
       "    <tr>\n",
       "      <th>mean</th>\n",
       "      <td>1.444000e+00</td>\n",
       "      <td>1.0</td>\n",
       "      <td>4.501792</td>\n",
       "      <td>0.650179</td>\n",
       "      <td>1.402151</td>\n",
       "      <td>0.897683</td>\n",
       "      <td>1.431783</td>\n",
       "      <td>2.416703</td>\n",
       "      <td>73.881758</td>\n",
       "      <td>1.241084e+00</td>\n",
       "      <td>-10.079338</td>\n",
       "    </tr>\n",
       "    <tr>\n",
       "      <th>std</th>\n",
       "      <td>3.114211e-15</td>\n",
       "      <td>0.0</td>\n",
       "      <td>0.500895</td>\n",
       "      <td>0.050090</td>\n",
       "      <td>0.399814</td>\n",
       "      <td>0.363687</td>\n",
       "      <td>0.033472</td>\n",
       "      <td>1.139483</td>\n",
       "      <td>138.439313</td>\n",
       "      <td>1.071159e+01</td>\n",
       "      <td>6.056901</td>\n",
       "    </tr>\n",
       "    <tr>\n",
       "      <th>min</th>\n",
       "      <td>1.444000e+00</td>\n",
       "      <td>1.0</td>\n",
       "      <td>4.000000</td>\n",
       "      <td>0.600000</td>\n",
       "      <td>0.800000</td>\n",
       "      <td>0.500000</td>\n",
       "      <td>1.278820</td>\n",
       "      <td>0.639394</td>\n",
       "      <td>-728.993000</td>\n",
       "      <td>-3.031140e-21</td>\n",
       "      <td>-21.910480</td>\n",
       "    </tr>\n",
       "    <tr>\n",
       "      <th>25%</th>\n",
       "      <td>1.444000e+00</td>\n",
       "      <td>1.0</td>\n",
       "      <td>4.000000</td>\n",
       "      <td>0.600000</td>\n",
       "      <td>1.000000</td>\n",
       "      <td>0.603492</td>\n",
       "      <td>1.420260</td>\n",
       "      <td>1.436675</td>\n",
       "      <td>73.313250</td>\n",
       "      <td>3.272815e-15</td>\n",
       "      <td>-14.485280</td>\n",
       "    </tr>\n",
       "    <tr>\n",
       "      <th>50%</th>\n",
       "      <td>1.444000e+00</td>\n",
       "      <td>1.0</td>\n",
       "      <td>5.000000</td>\n",
       "      <td>0.700000</td>\n",
       "      <td>1.400000</td>\n",
       "      <td>0.760000</td>\n",
       "      <td>1.442780</td>\n",
       "      <td>2.285010</td>\n",
       "      <td>98.769100</td>\n",
       "      <td>3.999390e-10</td>\n",
       "      <td>-9.398006</td>\n",
       "    </tr>\n",
       "    <tr>\n",
       "      <th>75%</th>\n",
       "      <td>1.444000e+00</td>\n",
       "      <td>1.0</td>\n",
       "      <td>5.000000</td>\n",
       "      <td>0.700000</td>\n",
       "      <td>1.800000</td>\n",
       "      <td>1.068750</td>\n",
       "      <td>1.455665</td>\n",
       "      <td>3.335500</td>\n",
       "      <td>132.415500</td>\n",
       "      <td>1.542775e-06</td>\n",
       "      <td>-5.817751</td>\n",
       "    </tr>\n",
       "    <tr>\n",
       "      <th>max</th>\n",
       "      <td>1.444000e+00</td>\n",
       "      <td>1.0</td>\n",
       "      <td>5.000000</td>\n",
       "      <td>0.700000</td>\n",
       "      <td>2.000000</td>\n",
       "      <td>1.800000</td>\n",
       "      <td>1.465320</td>\n",
       "      <td>5.622730</td>\n",
       "      <td>243.672000</td>\n",
       "      <td>1.550150e+02</td>\n",
       "      <td>2.190374</td>\n",
       "    </tr>\n",
       "  </tbody>\n",
       "</table>\n",
       "</div>"
      ],
      "text/plain": [
       "       core-ref-index-at-wl-1.55um  clad-ref-index  no-of-\\nrings  diaBYpitch  \\\n",
       "count                 2.790000e+02           279.0     279.000000  279.000000   \n",
       "mean                  1.444000e+00             1.0       4.501792    0.650179   \n",
       "std                   3.114211e-15             0.0       0.500895    0.050090   \n",
       "min                   1.444000e+00             1.0       4.000000    0.600000   \n",
       "25%                   1.444000e+00             1.0       4.000000    0.600000   \n",
       "50%                   1.444000e+00             1.0       5.000000    0.700000   \n",
       "75%                   1.444000e+00             1.0       5.000000    0.700000   \n",
       "max                   1.444000e+00             1.0       5.000000    0.700000   \n",
       "\n",
       "       pitch\\n(um)    wl\\n(um)        neff  Aeff\\n(um^2)  \\\n",
       "count   279.000000  279.000000  279.000000    279.000000   \n",
       "mean      1.402151    0.897683    1.431783      2.416703   \n",
       "std       0.399814    0.363687    0.033472      1.139483   \n",
       "min       0.800000    0.500000    1.278820      0.639394   \n",
       "25%       1.000000    0.603492    1.420260      1.436675   \n",
       "50%       1.400000    0.760000    1.442780      2.285010   \n",
       "75%       1.800000    1.068750    1.455665      3.335500   \n",
       "max       2.000000    1.800000    1.465320      5.622730   \n",
       "\n",
       "       dispersion\\n(ps/km.nm)  conf-loss\\n(dB/cm)  conf-loss-in-log10\\n(dB/cm)  \n",
       "count              279.000000        2.790000e+02                   279.000000  \n",
       "mean                73.881758        1.241084e+00                   -10.079338  \n",
       "std                138.439313        1.071159e+01                     6.056901  \n",
       "min               -728.993000       -3.031140e-21                   -21.910480  \n",
       "25%                 73.313250        3.272815e-15                   -14.485280  \n",
       "50%                 98.769100        3.999390e-10                    -9.398006  \n",
       "75%                132.415500        1.542775e-06                    -5.817751  \n",
       "max                243.672000        1.550150e+02                     2.190374  "
      ]
     },
     "execution_count": 12,
     "metadata": {},
     "output_type": "execute_result"
    }
   ],
   "source": [
    "df.describe()"
   ]
  },
  {
   "cell_type": "code",
   "execution_count": 13,
   "id": "2ac98fd7",
   "metadata": {},
   "outputs": [],
   "source": [
    "X = df.iloc[:,:6]\n",
    "y = df.iloc[:,6:11]\n",
    "\n",
    "from sklearn.model_selection import train_test_split\n",
    "X_train,X_test,y_train,y_test = train_test_split(X,y,test_size = 0.1)\n"
   ]
  },
  {
   "cell_type": "code",
   "execution_count": 14,
   "id": "3f1d055f",
   "metadata": {},
   "outputs": [
    {
     "data": {
      "text/plain": [
       "(251, 6)"
      ]
     },
     "execution_count": 14,
     "metadata": {},
     "output_type": "execute_result"
    }
   ],
   "source": [
    "X_train.shape"
   ]
  },
  {
   "cell_type": "code",
   "execution_count": 15,
   "id": "329c49b2",
   "metadata": {},
   "outputs": [
    {
     "data": {
      "text/html": [
       "<div>\n",
       "<style scoped>\n",
       "    .dataframe tbody tr th:only-of-type {\n",
       "        vertical-align: middle;\n",
       "    }\n",
       "\n",
       "    .dataframe tbody tr th {\n",
       "        vertical-align: top;\n",
       "    }\n",
       "\n",
       "    .dataframe thead th {\n",
       "        text-align: right;\n",
       "    }\n",
       "</style>\n",
       "<table border=\"1\" class=\"dataframe\">\n",
       "  <thead>\n",
       "    <tr style=\"text-align: right;\">\n",
       "      <th></th>\n",
       "      <th>neff</th>\n",
       "      <th>Aeff\\n(um^2)</th>\n",
       "      <th>dispersion\\n(ps/km.nm)</th>\n",
       "      <th>conf-loss\\n(dB/cm)</th>\n",
       "      <th>conf-loss-in-log10\\n(dB/cm)</th>\n",
       "    </tr>\n",
       "  </thead>\n",
       "  <tbody>\n",
       "    <tr>\n",
       "      <th>count</th>\n",
       "      <td>251.000000</td>\n",
       "      <td>251.000000</td>\n",
       "      <td>251.000000</td>\n",
       "      <td>2.510000e+02</td>\n",
       "      <td>251.000000</td>\n",
       "    </tr>\n",
       "    <tr>\n",
       "      <th>mean</th>\n",
       "      <td>1.432721</td>\n",
       "      <td>2.394857</td>\n",
       "      <td>77.060425</td>\n",
       "      <td>1.330364e+00</td>\n",
       "      <td>-10.166485</td>\n",
       "    </tr>\n",
       "    <tr>\n",
       "      <th>std</th>\n",
       "      <td>0.032489</td>\n",
       "      <td>1.119232</td>\n",
       "      <td>131.846552</td>\n",
       "      <td>1.127915e+01</td>\n",
       "      <td>6.010806</td>\n",
       "    </tr>\n",
       "    <tr>\n",
       "      <th>min</th>\n",
       "      <td>1.278820</td>\n",
       "      <td>0.647611</td>\n",
       "      <td>-667.351000</td>\n",
       "      <td>-3.031140e-21</td>\n",
       "      <td>-21.910480</td>\n",
       "    </tr>\n",
       "    <tr>\n",
       "      <th>25%</th>\n",
       "      <td>1.421115</td>\n",
       "      <td>1.461140</td>\n",
       "      <td>75.089350</td>\n",
       "      <td>3.272815e-15</td>\n",
       "      <td>-14.485280</td>\n",
       "    </tr>\n",
       "    <tr>\n",
       "      <th>50%</th>\n",
       "      <td>1.443130</td>\n",
       "      <td>2.283280</td>\n",
       "      <td>98.913100</td>\n",
       "      <td>3.314500e-10</td>\n",
       "      <td>-9.479582</td>\n",
       "    </tr>\n",
       "    <tr>\n",
       "      <th>75%</th>\n",
       "      <td>1.456110</td>\n",
       "      <td>3.290730</td>\n",
       "      <td>131.904500</td>\n",
       "      <td>1.015090e-06</td>\n",
       "      <td>-5.993534</td>\n",
       "    </tr>\n",
       "    <tr>\n",
       "      <th>max</th>\n",
       "      <td>1.465320</td>\n",
       "      <td>5.622730</td>\n",
       "      <td>243.672000</td>\n",
       "      <td>1.550150e+02</td>\n",
       "      <td>2.190374</td>\n",
       "    </tr>\n",
       "  </tbody>\n",
       "</table>\n",
       "</div>"
      ],
      "text/plain": [
       "             neff  Aeff\\n(um^2)  dispersion\\n(ps/km.nm)  conf-loss\\n(dB/cm)  \\\n",
       "count  251.000000    251.000000              251.000000        2.510000e+02   \n",
       "mean     1.432721      2.394857               77.060425        1.330364e+00   \n",
       "std      0.032489      1.119232              131.846552        1.127915e+01   \n",
       "min      1.278820      0.647611             -667.351000       -3.031140e-21   \n",
       "25%      1.421115      1.461140               75.089350        3.272815e-15   \n",
       "50%      1.443130      2.283280               98.913100        3.314500e-10   \n",
       "75%      1.456110      3.290730              131.904500        1.015090e-06   \n",
       "max      1.465320      5.622730              243.672000        1.550150e+02   \n",
       "\n",
       "       conf-loss-in-log10\\n(dB/cm)  \n",
       "count                   251.000000  \n",
       "mean                    -10.166485  \n",
       "std                       6.010806  \n",
       "min                     -21.910480  \n",
       "25%                     -14.485280  \n",
       "50%                      -9.479582  \n",
       "75%                      -5.993534  \n",
       "max                       2.190374  "
      ]
     },
     "execution_count": 15,
     "metadata": {},
     "output_type": "execute_result"
    }
   ],
   "source": [
    "X_train.describe()\n",
    "y_train.describe()"
   ]
  },
  {
   "cell_type": "code",
   "execution_count": 16,
   "id": "f6ace3d5",
   "metadata": {},
   "outputs": [],
   "source": [
    "from sklearn.ensemble import RandomForestRegressor\n",
    "rf_random = RandomForestRegressor()"
   ]
  },
  {
   "cell_type": "code",
   "execution_count": 17,
   "id": "0c2758a2",
   "metadata": {},
   "outputs": [
    {
     "data": {
      "text/html": [
       "<div>\n",
       "<style scoped>\n",
       "    .dataframe tbody tr th:only-of-type {\n",
       "        vertical-align: middle;\n",
       "    }\n",
       "\n",
       "    .dataframe tbody tr th {\n",
       "        vertical-align: top;\n",
       "    }\n",
       "\n",
       "    .dataframe thead th {\n",
       "        text-align: right;\n",
       "    }\n",
       "</style>\n",
       "<table border=\"1\" class=\"dataframe\">\n",
       "  <thead>\n",
       "    <tr style=\"text-align: right;\">\n",
       "      <th></th>\n",
       "      <th>neff</th>\n",
       "      <th>Aeff\\n(um^2)</th>\n",
       "      <th>dispersion\\n(ps/km.nm)</th>\n",
       "      <th>conf-loss\\n(dB/cm)</th>\n",
       "      <th>conf-loss-in-log10\\n(dB/cm)</th>\n",
       "    </tr>\n",
       "  </thead>\n",
       "  <tbody>\n",
       "    <tr>\n",
       "      <th>166</th>\n",
       "      <td>1.41914</td>\n",
       "      <td>1.42683</td>\n",
       "      <td>103.9580</td>\n",
       "      <td>2.975300e-04</td>\n",
       "      <td>-3.526469</td>\n",
       "    </tr>\n",
       "    <tr>\n",
       "      <th>236</th>\n",
       "      <td>1.46158</td>\n",
       "      <td>2.65164</td>\n",
       "      <td>81.2370</td>\n",
       "      <td>2.919870e-11</td>\n",
       "      <td>-10.534636</td>\n",
       "    </tr>\n",
       "    <tr>\n",
       "      <th>75</th>\n",
       "      <td>1.45494</td>\n",
       "      <td>1.77553</td>\n",
       "      <td>123.8090</td>\n",
       "      <td>1.370680e-19</td>\n",
       "      <td>-18.863064</td>\n",
       "    </tr>\n",
       "    <tr>\n",
       "      <th>176</th>\n",
       "      <td>1.44981</td>\n",
       "      <td>1.14388</td>\n",
       "      <td>157.8280</td>\n",
       "      <td>1.998720e-08</td>\n",
       "      <td>-7.699248</td>\n",
       "    </tr>\n",
       "    <tr>\n",
       "      <th>87</th>\n",
       "      <td>1.44335</td>\n",
       "      <td>2.49805</td>\n",
       "      <td>122.0080</td>\n",
       "      <td>3.919250e-16</td>\n",
       "      <td>-15.406797</td>\n",
       "    </tr>\n",
       "    <tr>\n",
       "      <th>...</th>\n",
       "      <td>...</td>\n",
       "      <td>...</td>\n",
       "      <td>...</td>\n",
       "      <td>...</td>\n",
       "      <td>...</td>\n",
       "    </tr>\n",
       "    <tr>\n",
       "      <th>165</th>\n",
       "      <td>1.41279</td>\n",
       "      <td>1.49940</td>\n",
       "      <td>75.1800</td>\n",
       "      <td>1.274080e-03</td>\n",
       "      <td>-2.894803</td>\n",
       "    </tr>\n",
       "    <tr>\n",
       "      <th>195</th>\n",
       "      <td>1.45434</td>\n",
       "      <td>1.58678</td>\n",
       "      <td>126.8270</td>\n",
       "      <td>2.021600e-09</td>\n",
       "      <td>-8.694305</td>\n",
       "    </tr>\n",
       "    <tr>\n",
       "      <th>109</th>\n",
       "      <td>1.45309</td>\n",
       "      <td>2.97195</td>\n",
       "      <td>99.6179</td>\n",
       "      <td>4.457670e-19</td>\n",
       "      <td>-18.350892</td>\n",
       "    </tr>\n",
       "    <tr>\n",
       "      <th>268</th>\n",
       "      <td>1.45825</td>\n",
       "      <td>4.27522</td>\n",
       "      <td>71.8437</td>\n",
       "      <td>1.745970e-10</td>\n",
       "      <td>-9.757963</td>\n",
       "    </tr>\n",
       "    <tr>\n",
       "      <th>30</th>\n",
       "      <td>1.42626</td>\n",
       "      <td>1.07434</td>\n",
       "      <td>190.4550</td>\n",
       "      <td>4.078580e-12</td>\n",
       "      <td>-11.389491</td>\n",
       "    </tr>\n",
       "  </tbody>\n",
       "</table>\n",
       "<p>251 rows × 5 columns</p>\n",
       "</div>"
      ],
      "text/plain": [
       "        neff  Aeff\\n(um^2)  dispersion\\n(ps/km.nm)  conf-loss\\n(dB/cm)  \\\n",
       "166  1.41914       1.42683                103.9580        2.975300e-04   \n",
       "236  1.46158       2.65164                 81.2370        2.919870e-11   \n",
       "75   1.45494       1.77553                123.8090        1.370680e-19   \n",
       "176  1.44981       1.14388                157.8280        1.998720e-08   \n",
       "87   1.44335       2.49805                122.0080        3.919250e-16   \n",
       "..       ...           ...                     ...                 ...   \n",
       "165  1.41279       1.49940                 75.1800        1.274080e-03   \n",
       "195  1.45434       1.58678                126.8270        2.021600e-09   \n",
       "109  1.45309       2.97195                 99.6179        4.457670e-19   \n",
       "268  1.45825       4.27522                 71.8437        1.745970e-10   \n",
       "30   1.42626       1.07434                190.4550        4.078580e-12   \n",
       "\n",
       "     conf-loss-in-log10\\n(dB/cm)  \n",
       "166                    -3.526469  \n",
       "236                   -10.534636  \n",
       "75                    -18.863064  \n",
       "176                    -7.699248  \n",
       "87                    -15.406797  \n",
       "..                           ...  \n",
       "165                    -2.894803  \n",
       "195                    -8.694305  \n",
       "109                   -18.350892  \n",
       "268                    -9.757963  \n",
       "30                    -11.389491  \n",
       "\n",
       "[251 rows x 5 columns]"
      ]
     },
     "execution_count": 17,
     "metadata": {},
     "output_type": "execute_result"
    }
   ],
   "source": [
    "y_train"
   ]
  },
  {
   "cell_type": "code",
   "execution_count": 18,
   "id": "b1b3ba40",
   "metadata": {},
   "outputs": [
    {
     "data": {
      "text/plain": [
       "(279, 11)"
      ]
     },
     "execution_count": 18,
     "metadata": {},
     "output_type": "execute_result"
    }
   ],
   "source": [
    "df.shape"
   ]
  },
  {
   "cell_type": "markdown",
   "id": "c0433b8b",
   "metadata": {},
   "source": [
    "# Using decision tree algorithm"
   ]
  },
  {
   "cell_type": "code",
   "execution_count": 19,
   "id": "72a9bce4",
   "metadata": {},
   "outputs": [],
   "source": [
    "from sklearn.metrics import confusion_matrix\n",
    "from sklearn.model_selection import train_test_split\n",
    "from sklearn.tree import DecisionTreeRegressor\n",
    "from sklearn.metrics import accuracy_score\n",
    "from sklearn.metrics import mean_squared_error, r2_score\n",
    "from sklearn.metrics import classification_report"
   ]
  },
  {
   "cell_type": "markdown",
   "id": "c5b07bf0",
   "metadata": {},
   "source": [
    "## Model Training"
   ]
  },
  {
   "cell_type": "code",
   "execution_count": 20,
   "id": "e79653b5",
   "metadata": {},
   "outputs": [],
   "source": [
    "from sklearn.model_selection import train_test_split\n",
    "\n",
    "X_train,X_test,y_train,y_test = train_test_split(X,y,random_state=20,test_size = 0.4)\n"
   ]
  },
  {
   "cell_type": "code",
   "execution_count": 21,
   "id": "6a8aa2c3",
   "metadata": {},
   "outputs": [
    {
     "data": {
      "text/plain": [
       "DecisionTreeRegressor(max_depth=5, random_state=20)"
      ]
     },
     "execution_count": 21,
     "metadata": {},
     "output_type": "execute_result"
    }
   ],
   "source": [
    "model =  DecisionTreeRegressor(max_depth=5,random_state=20)\n",
    "model.fit(X_train, y_train)"
   ]
  },
  {
   "cell_type": "code",
   "execution_count": 22,
   "id": "347d1d18",
   "metadata": {},
   "outputs": [
    {
     "data": {
      "text/plain": [
       "0.9286530423734594"
      ]
     },
     "execution_count": 22,
     "metadata": {},
     "output_type": "execute_result"
    }
   ],
   "source": [
    "model_score = model.score(X_train, y_train)\n",
    "model_score"
   ]
  },
  {
   "cell_type": "code",
   "execution_count": 23,
   "id": "83295a13",
   "metadata": {},
   "outputs": [
    {
     "name": "stdout",
     "output_type": "stream",
     "text": [
      "Coefficient of determination R^2 of the prediction.:  0.9286530423734594\n"
     ]
    }
   ],
   "source": [
    "print('Coefficient of determination R^2 of the prediction.: ',model_score)\n",
    "y_predicted = model.predict(X_test)"
   ]
  },
  {
   "cell_type": "code",
   "execution_count": 24,
   "id": "430d8797",
   "metadata": {},
   "outputs": [
    {
     "name": "stdout",
     "output_type": "stream",
     "text": [
      "Mean squared error: 451.71\n",
      "Test Variance score: 0.73\n"
     ]
    }
   ],
   "source": [
    "# The mean squared error\n",
    "print(\"Mean squared error: %.2f\"% mean_squared_error(y_test, y_predicted))\n",
    "# Explained variance score: 1 is perfect prediction\n",
    "print('Test Variance score: %.2f' % r2_score(y_test, y_predicted))"
   ]
  },
  {
   "cell_type": "code",
   "execution_count": 25,
   "id": "ba66cf7e",
   "metadata": {},
   "outputs": [
    {
     "data": {
      "image/png": "[encoded data removed]",
      "text/plain": [
       "<Figure size 640x480 with 1 Axes>"
      ]
     },
     "metadata": {},
     "output_type": "display_data"
    }
   ],
   "source": [
    "fig, ax = plt.subplots()\n",
    "ax.scatter(y_test, y_predicted, edgecolors=(0, 0, 0))\n",
    "ax.plot([y_test.min(), y_test.max()], [y_test.min(), y_test.max()], 'k--', lw=4)\n",
    "ax.set_xlabel('Actual')\n",
    "ax.set_ylabel('Predicted')\n",
    "ax.set_title(\"Ground Truth vs Predicted\")\n",
    "plt.show()"
   ]
  },
  {
   "cell_type": "markdown",
   "id": "819cd664",
   "metadata": {},
   "source": [
    "# using linear regression"
   ]
  },
  {
   "cell_type": "code",
   "execution_count": null,
   "id": "0546fbe5",
   "metadata": {},
   "outputs": [],
   "source": []
  },
  {
   "cell_type": "code",
   "execution_count": 28,
   "id": "ab9a5efd",
   "metadata": {},
   "outputs": [],
   "source": [
    "from sklearn.linear_model import LinearRegression\n",
    "from sklearn.metrics import mean_squared_error"
   ]
  },
  {
   "cell_type": "code",
   "execution_count": 20,
   "id": "6ec3e1ad",
   "metadata": {},
   "outputs": [
    {
     "data": {
      "text/plain": [
       "LinearRegression()"
      ]
     },
     "execution_count": 20,
     "metadata": {},
     "output_type": "execute_result"
    }
   ],
   "source": [
    "model = LinearRegression()\n",
    "model.fit(X_train,y_train)"
   ]
  },
  {
   "cell_type": "code",
   "execution_count": 21,
   "id": "57825304",
   "metadata": {},
   "outputs": [
    {
     "data": {
      "text/plain": [
       "array([[ 0.00000000e+00,  6.93889390e-18, -6.63483785e-03,\n",
       "        -6.63483785e-04,  4.53513144e-02, -6.82277096e-02],\n",
       "       [ 0.00000000e+00,  2.22044605e-16, -4.55198272e-01,\n",
       "        -4.55198272e-02,  2.37013119e+00,  1.30359940e+00],\n",
       "       [ 0.00000000e+00,  2.13162821e-14,  2.95910607e+01,\n",
       "         2.95910607e+00,  4.20723505e+01, -2.05757600e+02],\n",
       "       [ 0.00000000e+00, -8.88178420e-16, -1.70026982e+00,\n",
       "        -1.70026982e-01, -4.71487857e+00,  7.98388791e+00],\n",
       "       [ 0.00000000e+00, -3.55271368e-15, -7.21119350e+00,\n",
       "        -7.21119350e-01, -7.40629619e+00,  9.93770701e+00]])"
      ]
     },
     "execution_count": 21,
     "metadata": {},
     "output_type": "execute_result"
    }
   ],
   "source": [
    "model.coef_"
   ]
  },
  {
   "cell_type": "code",
   "execution_count": 22,
   "id": "9ae98632",
   "metadata": {},
   "outputs": [
    {
     "data": {
      "text/plain": [
       "array([ 1.45968310e+00, -1.23723657e-03,  6.47711722e+01,  8.64651716e+00,\n",
       "        2.43428196e+01])"
      ]
     },
     "execution_count": 22,
     "metadata": {},
     "output_type": "execute_result"
    }
   ],
   "source": [
    "model.intercept_"
   ]
  },
  {
   "cell_type": "markdown",
   "id": "8630f12f",
   "metadata": {},
   "source": [
    "# Evaluate the model"
   ]
  },
  {
   "cell_type": "code",
   "execution_count": 23,
   "id": "bb29dc12",
   "metadata": {},
   "outputs": [
    {
     "data": {
      "text/plain": [
       "0.6270902610411698"
      ]
     },
     "execution_count": 23,
     "metadata": {},
     "output_type": "execute_result"
    }
   ],
   "source": [
    "model_score = model.score(X_train, y_train)\n",
    "model_score"
   ]
  },
  {
   "cell_type": "code",
   "execution_count": 24,
   "id": "d7a6856b",
   "metadata": {},
   "outputs": [
    {
     "name": "stdout",
     "output_type": "stream",
     "text": [
      "Coefficient of determination R^2 of the prediction.:  0.6270902610411698\n"
     ]
    }
   ],
   "source": [
    "print('Coefficient of determination R^2 of the prediction.: ',model_score)\n",
    "y_predicted = model.predict(X_test)"
   ]
  },
  {
   "cell_type": "code",
   "execution_count": 25,
   "id": "e5435737",
   "metadata": {},
   "outputs": [
    {
     "name": "stdout",
     "output_type": "stream",
     "text": [
      "for testing data: -0.3955880581448904\n"
     ]
    }
   ],
   "source": [
    "print(\"for testing data: {}\".format(model.score(X_test,y_test)))"
   ]
  },
  {
   "cell_type": "code",
   "execution_count": 30,
   "id": "8d18e2d0",
   "metadata": {},
   "outputs": [
    {
     "name": "stdout",
     "output_type": "stream",
     "text": [
      "Mean Squared Error: 4332.432030078635\n"
     ]
    }
   ],
   "source": [
    "# Calculate the mean squared error\n",
    "mse = mean_squared_error(y_test, y_predicted)\n",
    "\n",
    "print('Mean Squared Error:', mse)"
   ]
  },
  {
   "cell_type": "code",
   "execution_count": 26,
   "id": "ef20ce01",
   "metadata": {},
   "outputs": [
    {
     "data": {
      "image/png": "[encoded data removed]",
      "text/plain": [
       "<Figure size 640x480 with 1 Axes>"
      ]
     },
     "metadata": {},
     "output_type": "display_data"
    }
   ],
   "source": [
    "fig, ax = plt.subplots()\n",
    "ax.scatter(y_test, y_predicted, edgecolors=(0, 0, 0))\n",
    "ax.plot([y_test.min(), y_test.max()], [y_test.min(), y_test.max()], 'k--', lw=4)\n",
    "ax.set_xlabel('Actual')\n",
    "ax.set_ylabel('Predicted')\n",
    "ax.set_title(\"Ground Truth vs Predicted\")\n",
    "plt.show()"
   ]
  },
  {
   "cell_type": "code",
   "execution_count": null,
   "id": "6244d13d",
   "metadata": {},
   "outputs": [],
   "source": []
  },
  {
   "cell_type": "code",
   "execution_count": null,
   "id": "b4f2ebca",
   "metadata": {},
   "outputs": [],
   "source": []
  }
 ],
 "metadata": {
  "kernelspec": {
   "display_name": "Python 3 (ipykernel)",
   "language": "python",
   "name": "python3"
  },
  "language_info": {
   "codemirror_mode": {
    "name": "ipython",
    "version": 3
   },
   "file_extension": ".py",
   "mimetype": "text/x-python",
   "name": "python",
   "nbconvert_exporter": "python",
   "pygments_lexer": "ipython3",
   "version": "3.9.13"
  }
 },
 "nbformat": 4,
 "nbformat_minor": 5
}
